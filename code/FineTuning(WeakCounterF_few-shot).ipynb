{
 "cells": [
  {
   "cell_type": "markdown",
   "id": "8d790367-02ad-4ff2-b94d-b1b3b8bda1fb",
   "metadata": {},
   "source": [
    "### Import"
   ]
  },
  {
   "cell_type": "code",
   "execution_count": null,
   "id": "13c12c9a-d5a8-4d44-8629-d25b9fcbca3a",
   "metadata": {},
   "outputs": [],
   "source": [
    "import os\n",
    "import numpy as np\n",
    "from numpy import abs, max \n",
    "import scipy\n",
    "from scipy import interpolate\n",
    "from matplotlib import pyplot as plt\n",
    "import sys\n",
    "import pandas as pd\n",
    "import random\n",
    "import time\n",
    "from sklearn import preprocessing\n",
    "from sklearn.model_selection import train_test_split\n",
    "from tqdm import tqdm\n",
    "import math\n",
    "import glob\n",
    "\n",
    "import keras\n",
    "from keras.layers import Input,LSTM,Dense,Dropout,Activation,noise,normalization,TimeDistributed,Flatten,Masking,Embedding,Conv1D, MaxPooling1D, RepeatVector, Permute, Lambda, Multiply,Reshape\n",
    "from keras.models import Sequential, Model, load_model\n",
    "from keras.utils import np_utils\n",
    "from keras.utils.vis_utils import model_to_dot\n",
    "from keras.callbacks import EarlyStopping\n",
    "from IPython.display import SVG\n",
    "import keras_utils\n",
    "from keras.utils.np_utils import to_categorical\n",
    "from sklearn.metrics import mean_absolute_error\n",
    "from keras import backend as K\n",
    "\n",
    "from tensorflow import keras"
   ]
  },
  {
   "cell_type": "markdown",
   "id": "c4a0fd48-aa21-4ee3-ad2f-483933f164c0",
   "metadata": {},
   "source": [
    "### Composite Data Creation Functions"
   ]
  },
  {
   "cell_type": "code",
   "execution_count": null,
   "id": "efe128e7-c166-47f7-bc4d-182323ebaa43",
   "metadata": {},
   "outputs": [],
   "source": [
    "def synthesize_data(subject,action,num,times):\n",
    "    \n",
    "    base_path = '../data/one_time_action_opt/'+subject+'/'+action\n",
    "    synthetic_data = np.zeros((3,0))\n",
    "    begin = np.load(base_path+'/'+str(times)+'/begin.npy')\n",
    "    fin = np.load(base_path+'/'+str(times)+'/fin.npy')\n",
    "    \n",
    "\n",
    "    synthetic_data = np.append(synthetic_data,begin,axis=1)\n",
    "    for r in range(num):\n",
    "        r_order = random.randint(1,times)\n",
    "        r_index = random.randint(0,99)\n",
    "        one_acc = np.load(base_path+'/'+str(times)+'/'+str(r_order)+'_'+str(r_index)+'.npy')\n",
    "        synthetic_data = np.append(synthetic_data,one_acc,axis=1)    \n",
    "    \n",
    "    synthetic_data = np.append(synthetic_data,fin,axis=1)\n",
    "    \n",
    "    return synthetic_data"
   ]
  },
  {
   "cell_type": "code",
   "execution_count": null,
   "id": "4458f4d0-23e9-4959-84a1-f00d194fe346",
   "metadata": {},
   "outputs": [],
   "source": [
    "def concat_data(subject,times):\n",
    "\n",
    "    label = {}\n",
    "    label['p'] = random.randint(1,20)\n",
    "    label['s'] = random.randint(1,20)     \n",
    "    label['a'] = random.randint(1,20)\n",
    "    \n",
    "    total_data = np.zeros((3,0))\n",
    "    act_list = ['pushup','squat','abs']\n",
    "    num_list = [label['p'],label['s'],label['a']]\n",
    "\n",
    "    while any(num_list):\n",
    "\n",
    "        work = random.randint(0,2)\n",
    "        num_can = random.randint(1,20)\n",
    "        act = act_list[work]\n",
    "        num = min(num_list[work],num_can)\n",
    "        data = synthesize_data(subject,act,num,times)\n",
    "        num_list[work] = num_list[work] - num\n",
    "        \n",
    "\n",
    "        wide_r = random.uniform(0.8,1.2)\n",
    "        height_r = random.uniform(0.8,1.2)\n",
    "        length = data.shape[1]\n",
    "        resample_length = np.arange(0,length,wide_r).shape[0]\n",
    "        resample_data = np.zeros((3,resample_length))\n",
    "        for d in range(3):\n",
    "            resample_data[d] = np.interp(np.arange(0,length,wide_r),np.arange(0,length),data[d])\n",
    "        scaled_data = resample_data*height_r\n",
    "        shifted_data = np.zeros((3,resample_length))\n",
    "        for s in range(3):\n",
    "            shift_r = random.uniform(-2,2)\n",
    "            shifted_data[s] = scaled_data[s] + shift_r\n",
    "        \n",
    "\n",
    "        total_data = np.append(total_data,shifted_data,axis=1)\n",
    "    return total_data,label"
   ]
  },
  {
   "cell_type": "markdown",
   "id": "30305ecd-6dd5-45aa-a4a7-634ac3e03bca",
   "metadata": {},
   "source": [
    "### Parameter"
   ]
  },
  {
   "cell_type": "code",
   "execution_count": null,
   "id": "75ebb802-7d31-4128-8f04-1ce16851efba",
   "metadata": {},
   "outputs": [],
   "source": [
    "subject = 'A'\n",
    "num_dataset = 5000"
   ]
  },
  {
   "cell_type": "markdown",
   "id": "47f49fa1-ba11-4631-8943-49f5fc599736",
   "metadata": {},
   "source": [
    "### Composite data creation"
   ]
  },
  {
   "cell_type": "code",
   "execution_count": null,
   "id": "f10eeada-43d0-4c88-b23a-70dfdfee7990",
   "metadata": {},
   "outputs": [],
   "source": [
    "X = np.zeros((0,3,35000))\n",
    "labels = {'p':np.zeros(0),'s':np.zeros(0),'a':np.zeros(0)}\n",
    "\n",
    "time1 = time.perf_counter()\n",
    "for i in tqdm(range(num_dataset)):\n",
    "    #合成データの作成\n",
    "    data,label = concat_data(subject)\n",
    "    if data.shape[1] <= 35000:\n",
    "        #加速度データセットXに合成データを追加\n",
    "        fix_data = np.zeros((1,3,35000))\n",
    "        fix_data[0,:,:data.shape[1]] = data\n",
    "        X = np.append(X,fix_data,axis=0)\n",
    "        #ラベルの配列 y にラベルを追加\n",
    "        for key in label:\n",
    "            labels[key] = np.append(labels[key],label[key])\n",
    "    \n",
    "time2 = time.perf_counter()\n",
    "print('time for making '+str(num_dataset)+' dataset : ',str(int((time2-time1)/60))+'min',str((time2-time1)%60)+'sec')"
   ]
  },
  {
   "cell_type": "markdown",
   "id": "f8dfe244-cdba-4299-92d8-daa346e7abf5",
   "metadata": {},
   "source": [
    "### Action for counting"
   ]
  },
  {
   "cell_type": "code",
   "execution_count": null,
   "id": "cc892fc8-dde8-440b-a609-0b15cf6b1812",
   "metadata": {},
   "outputs": [],
   "source": [
    "count_action = 'squat'\n",
    "count_action_label = 's'\n",
    "\n",
    "y = labels[count_action_label]\n",
    "\n",
    "print(X.shape)\n",
    "print(y.shape)"
   ]
  },
  {
   "cell_type": "code",
   "execution_count": null,
   "id": "b14a3044-190d-4f67-a8cf-aaca08df414b",
   "metadata": {},
   "outputs": [],
   "source": [
    "plt.xticks(np.arange(21))\n",
    "plt.hist(y,stacked=False,range=(0,21),bins=21,ec='k')"
   ]
  },
  {
   "cell_type": "code",
   "execution_count": null,
   "id": "a1aac790-6b1f-4149-abfd-ee3a0d9fa0e4",
   "metadata": {},
   "outputs": [],
   "source": [
    "ex = random.randint(0,999)\n",
    "plt.figure(figsize=(30,5))\n",
    "plt.plot(X[ex].T)\n",
    "print(y[ex])"
   ]
  },
  {
   "cell_type": "markdown",
   "id": "1e309b4d-6c9e-4991-bcd6-d00c76e67344",
   "metadata": {},
   "source": [
    "### Split the dataset into Train and Validation"
   ]
  },
  {
   "cell_type": "code",
   "execution_count": null,
   "id": "8ecd92db-1f98-40aa-9300-50a0e736a5ae",
   "metadata": {},
   "outputs": [],
   "source": [
    "X_train,X_val,y_train,y_val = train_test_split(X,y,train_size=0.8,random_state=1)\n",
    "\n",
    "print(X_train.shape)\n",
    "print(X_val.shape)\n",
    "print(y_train.shape)\n",
    "print(y_val.shape)"
   ]
  },
  {
   "cell_type": "markdown",
   "id": "7d61abf4-30a6-486f-aec1-ec6e1ebb7386",
   "metadata": {},
   "source": [
    "### Test Data"
   ]
  },
  {
   "cell_type": "code",
   "execution_count": null,
   "id": "8f98ba58-0e5a-4762-aa86-01aaa08a18fc",
   "metadata": {},
   "outputs": [],
   "source": [
    "X_test = np.zeros((0,3,35000))\n",
    "y_test = np.zeros(0)\n",
    "\n",
    "test_path = '../data/raw_data/'+subject+'/'\n",
    "files = os.listdir(test_path)\n",
    "for file in  files:\n",
    "    test_npz = np.load(test_path+file)\n",
    "    test_data = test_npz['d']\n",
    "    test_label = test_npz[count_action_label]\n",
    "    \n",
    "    fix_test_data = np.zeros((1,3,35000))\n",
    "    fix_test_data[0,:,:test_data.shape[1]] = test_data\n",
    "    \n",
    "    X_test = np.append(X_test,fix_test_data,axis=0)\n",
    "    y_test = np.append(y_test,test_label)\n",
    "    \n",
    "print(X_test.shape)\n",
    "print(y_test.shape)"
   ]
  },
  {
   "cell_type": "markdown",
   "id": "915743ab-7f53-49d2-9273-ff9871e7e648",
   "metadata": {},
   "source": [
    "### Preprocessing"
   ]
  },
  {
   "cell_type": "code",
   "execution_count": null,
   "id": "6094776c-c0d2-4236-bd1d-37a0830e3073",
   "metadata": {},
   "outputs": [],
   "source": [
    "def scaling(data):\n",
    "    num_data = data.shape[0]\n",
    "    for i in range(num_data):\n",
    "        for j in range(3):\n",
    "            data[i][j] = preprocessing.scale(data[i][j])\n",
    "    return data"
   ]
  },
  {
   "cell_type": "code",
   "execution_count": null,
   "id": "f5bacf51-8a9a-4bc5-949b-a97c253a65e5",
   "metadata": {},
   "outputs": [],
   "source": [
    "X_train = scaling(X_train)\n",
    "X_val = scaling(X_val)\n",
    "X_test = scaling(X_test)\n",
    "\n",
    "y_train = y_train/20\n",
    "y_val = y_val/20\n",
    "y_test = y_test/20"
   ]
  },
  {
   "cell_type": "code",
   "execution_count": null,
   "id": "b21383e1-fe7c-4651-adcc-7f6b60ced0fb",
   "metadata": {},
   "outputs": [],
   "source": [
    "X_train = X_train.transpose(0,2,1)\n",
    "X_val = X_val.transpose(0,2,1)\n",
    "X_test = X_test.transpose(0,2,1)"
   ]
  },
  {
   "cell_type": "markdown",
   "id": "fa7d24fa-191a-4d2c-ae55-52dad9857785",
   "metadata": {},
   "source": [
    "### Preparing pre-trained model"
   ]
  },
  {
   "cell_type": "code",
   "execution_count": null,
   "id": "0a94ef5f-75c5-4d4e-9f4a-d7a050f98cef",
   "metadata": {},
   "outputs": [],
   "source": [
    "hidden_unit = 8\n",
    "kernel_size = 4\n",
    "\n",
    "_input = Input(shape=(X_train.shape[1],X_train.shape[2]))\n",
    "mask = Masking(mask_value=0.0)(_input)\n",
    "\n",
    "conv_l = Conv1D(hidden_unit,8,padding='same',activation='relu')(mask)\n",
    "conv_l = MaxPooling1D()(conv_l)\n",
    "conv_l = Conv1D(hidden_unit,kernel_size,padding='same',activation='relu')(conv_l)\n",
    "conv_l = MaxPooling1D()(conv_l)\n",
    "conv_l = Conv1D(hidden_unit,2,padding='same',activation='relu')(conv_l)\n",
    "conv_l = MaxPooling1D()(conv_l)\n",
    "conv_l = Dropout(0.5)(conv_l)\n",
    "\n",
    "attention = Conv1D(hidden_unit,8,padding='same',activation='relu')(conv_l)\n",
    "attention = Dropout(0.5)(attention)\n",
    "attention = Conv1D(hidden_unit,8,padding='same',activation='relu')(attention)\n",
    "attention = Activation('sigmoid')(attention)\n",
    "\n",
    "sent_representation = Multiply()([conv_l, attention])\n",
    "sent_representation = Dropout(0.5)(sent_representation)\n",
    "\n",
    "x = Lambda(lambda xin: K.sum(xin,axis=2))(sent_representation)\n",
    "x = Reshape((-1,1))(x)\n",
    "\n",
    "x = Conv1D(hidden_unit,kernel_size,padding='same',activation='relu')(x)\n",
    "x = MaxPooling1D()(x)\n",
    "x = Conv1D(hidden_unit,kernel_size,padding='same',activation='relu')(x)\n",
    "x = MaxPooling1D()(x)\n",
    "x = Conv1D(hidden_unit,kernel_size,padding='same',activation='relu')(x)\n",
    "x = MaxPooling1D()(x)\n",
    "x = Flatten()(x)\n",
    "x = Dropout(0.5)(x)\n",
    "x = Dense(hidden_unit,activation='relu')(x)\n",
    "_output = Dense(1,activation='linear')(x)\n",
    "\n",
    "model = Model(inputs=_input, outputs=_output)\n",
    "model.compile(loss='mean_absolute_error', optimizer='adam')"
   ]
  },
  {
   "cell_type": "code",
   "execution_count": null,
   "id": "8909b1e4-3f00-4dbc-8d4a-d7f66fc47b50",
   "metadata": {},
   "outputs": [],
   "source": [
    "model.load_weights('../data/pre-trained_model/wo_'+target+'_WeakCounter/100'+count_action+'.hdf5')"
   ]
  },
  {
   "cell_type": "markdown",
   "id": "523f3505-3bfb-4b10-9f1c-61a4384ce622",
   "metadata": {},
   "source": [
    "### Validation before Fine-Tuning (=WeakCounter)"
   ]
  },
  {
   "cell_type": "code",
   "execution_count": null,
   "id": "ba0c3666-c7f0-4eb1-bd05-490baa89eb7e",
   "metadata": {},
   "outputs": [],
   "source": [
    "#テストデータ\n",
    "\n",
    "pre_predict = model.predict(X_test)\n",
    "pre_predict = pre_predict[:,0]\n",
    "\n",
    "pre_MAE = mean_absolute_error(np.round(pre_predict*20),np.round(y_test*20))\n",
    "print('MAE:',pre_MAE)\n",
    "pre_MRE = np.mean(abs(np.round(pre_predict*20)-np.round(y_test*20))/np.round(y_test*20))\n",
    "print('MRE:',pre_MRE)"
   ]
  },
  {
   "cell_type": "code",
   "execution_count": null,
   "id": "49ca275a-cbb5-4d77-8265-75719eb21ee2",
   "metadata": {},
   "outputs": [],
   "source": [
    "\n",
    "t = np.linspace(0,20,21)\n",
    "s = t\n",
    "\n",
    "plt.scatter(np.round(y_test*20),np.round(pre_predict*20))\n",
    "plt.plot(s,t)\n",
    "plt.xticks(range(0,21,2))\n",
    "plt.yticks(range(0,21,2))\n",
    "plt.grid()\n",
    "plt.xlabel('Ground Truth')\n",
    "plt.ylabel('Predict')"
   ]
  },
  {
   "cell_type": "markdown",
   "id": "e91964b3-b8a9-480f-b38e-b253a434f909",
   "metadata": {},
   "source": [
    "### Fine-Tuning"
   ]
  },
  {
   "cell_type": "code",
   "execution_count": null,
   "id": "14dca0fc-8f6c-4c28-b2f0-46b5c57c0b0e",
   "metadata": {},
   "outputs": [],
   "source": [
    "Adam = keras.optimizers.Adam(learning_rate=0.0001)\n",
    "model.compile(loss='mean_absolute_error',optimizer=Adam)"
   ]
  },
  {
   "cell_type": "code",
   "execution_count": null,
   "id": "e6b1c25e-1cb6-4819-a5d2-9f72fad2c008",
   "metadata": {},
   "outputs": [],
   "source": [
    "\n",
    "nb_epoch = 50\n",
    "plot_losses = keras_utils.PlotLosses()\n",
    "\n",
    "start_train = time.perf_counter()\n",
    "\n",
    "model.fit(X_train,y_train,epochs=nb_epoch,validation_data=(X_val,y_val),callbacks=[plot_losses],verbose=1)\n",
    "\n",
    "end_train = time.perf_counter()"
   ]
  },
  {
   "cell_type": "code",
   "execution_count": null,
   "id": "5f74132a-0cd9-4a11-bc9a-34d8fc8255c8",
   "metadata": {},
   "outputs": [],
   "source": [
    "print(\"Time for training:\",str(int((end_train-start_train)/60))+'min',str((end_train-start_train)%60)+'sec')"
   ]
  },
  {
   "cell_type": "markdown",
   "id": "84fac1c2-c64d-4f4c-8909-56ecd2479dca",
   "metadata": {},
   "source": [
    "### Prediction & Evaluation"
   ]
  },
  {
   "cell_type": "code",
   "execution_count": null,
   "id": "029a0bce-28c6-4a1e-922d-ad061c5dc9e7",
   "metadata": {},
   "outputs": [],
   "source": [
    "predict = model.predict(X_test)\n",
    "predict = predict[:,0]\n",
    "predict.shape\n",
    "\n",
    "MAE = mean_absolute_error(np.round(predict*20),np.round(y_test*20))\n",
    "print('MAE:',MAE)\n",
    "accuracy = np.mean(1-abs(np.round(predict*20)-np.round(y_test*20))/np.round(y_test*20))\n",
    "MRE = 1-accuracy\n",
    "print('MRE:',MRE)"
   ]
  },
  {
   "cell_type": "code",
   "execution_count": null,
   "id": "b779ad95-8ec2-4b8d-8fa8-744180d611dd",
   "metadata": {},
   "outputs": [],
   "source": [
    "\n",
    "t = np.linspace(0,20,21)\n",
    "s = t\n",
    "\n",
    "plt.scatter(np.round(y_test*20),np.round(predict*20))\n",
    "plt.plot(s,t)\n",
    "plt.xticks(range(0,21,2))\n",
    "plt.yticks(range(0,21,2))\n",
    "plt.grid()\n",
    "plt.xlabel('Ground Truth')\n",
    "plt.ylabel('Predict')"
   ]
  },
  {
   "cell_type": "code",
   "execution_count": null,
   "id": "4ad3427c-8dc8-4df0-9fc4-439eb10e9995",
   "metadata": {},
   "outputs": [],
   "source": []
  },
  {
   "cell_type": "code",
   "execution_count": null,
   "id": "43f69364-11b8-498b-823d-485704bd1a44",
   "metadata": {},
   "outputs": [],
   "source": []
  },
  {
   "cell_type": "code",
   "execution_count": null,
   "id": "d54c48ec-99ec-4ac1-b695-eff41e2078c7",
   "metadata": {},
   "outputs": [],
   "source": []
  }
 ],
 "metadata": {
  "kernelspec": {
   "display_name": "Python 3",
   "language": "python",
   "name": "python3"
  },
  "language_info": {
   "codemirror_mode": {
    "name": "ipython",
    "version": 3
   },
   "file_extension": ".py",
   "mimetype": "text/x-python",
   "name": "python",
   "nbconvert_exporter": "python",
   "pygments_lexer": "ipython3",
   "version": "3.8.8"
  }
 },
 "nbformat": 4,
 "nbformat_minor": 5
}
