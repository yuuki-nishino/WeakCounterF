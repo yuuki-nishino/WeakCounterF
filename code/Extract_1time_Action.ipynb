{
 "cells": [
  {
   "cell_type": "code",
   "execution_count": null,
   "id": "1520c480-433c-4237-9318-6b900772d2e5",
   "metadata": {},
   "outputs": [],
   "source": [
    "from IPython.core.display import display, HTML \n",
    "display(HTML(\"<style>.container { width:100% !important; }</style>\"))\n",
    "\n",
    "\n",
    "import csv\n",
    "from datetime import datetime\n",
    "from datetime import timedelta\n",
    "import os\n",
    "import gc\n",
    "import scipy\n",
    "import numpy as np\n",
    "from matplotlib import pyplot as plt\n",
    "import sys\n",
    "import pandas as pd\n",
    "import random\n",
    "import time\n",
    "from sklearn import preprocessing\n",
    "from tqdm import tqdm\n",
    "from scipy import signal\n",
    "from scipy.spatial.distance import euclidean\n",
    "from fastdtw import fastdtw\n",
    "import seaborn as sns\n",
    "import math\n",
    "import itertools\n",
    "from scipy.optimize import minimize\n",
    "\n",
    "from mpl_toolkits.mplot3d import Axes3D\n",
    "from ipywidgets import interact\n",
    "from functools import partial\n",
    "\n",
    "from pre_utils import autocorrelation, lowpass, moving_average"
   ]
  },
  {
   "cell_type": "code",
   "execution_count": null,
   "id": "fa419e1e-15ea-4cea-8fc0-46457e4486b9",
   "metadata": {},
   "outputs": [],
   "source": [
    "\n",
    "def scaling_quarter_range(data):\n",
    "    data_quarter = np.zeros(data.shape)\n",
    "    for i in range(data.shape[0]):\n",
    "        q25,q75 = np.percentile(data[i],[25,75])\n",
    "        for j in range(data.shape[1]):\n",
    "            x = data[i][j]\n",
    "            new_x = (x-q25)/(q75-q25)\n",
    "            data_quarter[i][j] = new_x\n",
    "    return data_quarter"
   ]
  },
  {
   "cell_type": "code",
   "execution_count": null,
   "id": "343905f3-0c2d-4713-9a31-24bfb9e7a557",
   "metadata": {},
   "outputs": [],
   "source": [
    "\n",
    "def calc_autoco_maxid(acc,sampling_rate,cut_off):\n",
    "    len_acc = acc.shape[1]\n",
    "    # 平滑化（ローパスフィルタ）\n",
    "    lpf = np.zeros((3,len_acc))\n",
    "    for i in range(3):\n",
    "        lpf[i] = lowpass(sampling_rate,acc[i],cut_off)\n",
    "\n",
    "#     lpf_mm = scaling_quarter_range(lpf)\n",
    "#     lpf_mm = preprocessing.minmax_scale(lpf.astype(float),axis=1)\n",
    "\n",
    "    one_dim = np.sqrt(lpf[0]**2+lpf[1]**2+lpf[2]**2)\n",
    "\n",
    "    auto_co = []\n",
    "    for k in range(len_acc):\n",
    "        auto_co.append(autocorrelation(one_dim,k))\n",
    "    auto_co = np.array(auto_co)\n",
    "\n",
    "    maxid = signal.argrelmax(auto_co,order=50)\n",
    "    peak = maxid[0]\n",
    "    peak_val = [auto_co[p] for p in peak]\n",
    "    \n",
    "    if len(peak_val)>0:\n",
    "        peak_max_val = np.max(peak_val)\n",
    "        peak_max_idx = peak[np.argmax(peak_val)]\n",
    "    elif len(peak_val)==0:\n",
    "        peak_max_val = 0\n",
    "        peak_max_idx = 0\n",
    "    \n",
    "    return peak_max_val,peak_max_idx,auto_co"
   ]
  },
  {
   "cell_type": "code",
   "execution_count": null,
   "id": "76c4962b-bd98-4428-a5a2-6bd36be0caa0",
   "metadata": {},
   "outputs": [],
   "source": [
    "\n",
    "def calc_peak_autoco(acc,sampling_rate,cut_off):\n",
    "    len_acc = acc.shape[1]\n",
    "    acc_arr = []\n",
    "    peak_arr = []\n",
    "    idx_arr = []\n",
    "    ac_arr = []\n",
    "\n",
    "    #full\n",
    "    full_acc = acc\n",
    "    acc_arr.append(full_acc)\n",
    "    peak,idx,ac = calc_autoco_maxid(full_acc,sampling_rate,cut_off)\n",
    "    peak_arr.append(peak)\n",
    "    idx_arr.append(idx)\n",
    "    ac_arr.append(ac)\n",
    "\n",
    "    #half\n",
    "    half_len = int(len_acc/2)\n",
    "    for i in range(0,len_acc-half_len,100):\n",
    "        half_acc = acc[:,i:i+half_len]\n",
    "        acc_arr.append(half_acc)\n",
    "        peak,idx,ac = calc_autoco_maxid(half_acc,sampling_rate,cut_off)\n",
    "        peak_arr.append(peak)\n",
    "        idx_arr.append(idx)\n",
    "        ac_arr.append(ac)\n",
    "\n",
    "    #third\n",
    "    third_len = int(len_acc/3)\n",
    "    for i in range(0,len_acc-third_len,100):\n",
    "        third_acc = acc[:,i:i+third_len]\n",
    "        acc_arr.append(third_acc)\n",
    "        peak,idx,ac = calc_autoco_maxid(third_acc,sampling_rate,cut_off)\n",
    "        peak_arr.append(peak)\n",
    "        idx_arr.append(idx)\n",
    "        ac_arr.append(ac)\n",
    "\n",
    "    # quater\n",
    "    quater_len = int(len_acc/4)\n",
    "    for i in range(0,len_acc-quater_len-1,int(quater_len/2)):\n",
    "        quater_acc = acc[:,i:i+quater_len]\n",
    "        acc_arr.append(quater_acc)\n",
    "        peak,idx,ac = calc_autoco_maxid(quater_acc,sampling_rate,cut_off)\n",
    "        peak_arr.append(peak)\n",
    "        idx_arr.append(idx)\n",
    "        ac_arr.append(ac)\n",
    "        \n",
    "    return acc_arr,peak_arr,idx_arr,ac_arr"
   ]
  },
  {
   "cell_type": "code",
   "execution_count": null,
   "id": "7a959e2a-9526-4201-a940-9909fb8e0ecb",
   "metadata": {},
   "outputs": [],
   "source": [
    "\n",
    "def calc_DTW_sequence(acc,cycle_len):\n",
    "    dtw_x_sum = []\n",
    "    dtw_y_sum = []\n",
    "    dtw_z_sum = []\n",
    "    \n",
    "    len_acc = acc.shape[1]\n",
    "\n",
    "    for x in range(len_acc-num*cycle_len):\n",
    "        segments = []\n",
    "        for i in range(num):\n",
    "            seg = acc[:,x+cycle_len*i:x+cycle_len*(i+1)]\n",
    "            segments.append(seg)\n",
    "\n",
    "        pairs = list(itertools.combinations(segments, 2))\n",
    "        dtw_x = 0\n",
    "        dtw_y = 0\n",
    "        dtw_z = 0\n",
    "        for p in pairs:\n",
    "            distance_x,path = fastdtw(p[0][0],p[1][0])\n",
    "            distance_y,path = fastdtw(p[0][1],p[1][1])\n",
    "            distance_z,path = fastdtw(p[0][2],p[1][2])\n",
    "            dtw_x += distance_x\n",
    "            dtw_y += distance_y\n",
    "            dtw_z += distance_z\n",
    "\n",
    "        dtw_x_sum.append(dtw_x)\n",
    "        dtw_y_sum.append(dtw_y)\n",
    "        dtw_z_sum.append(dtw_z)\n",
    "\n",
    "    dtw_sum = np.array(dtw_x_sum)+np.array(dtw_y_sum)+np.array(dtw_z_sum)\n",
    "    return dtw_sum"
   ]
  },
  {
   "cell_type": "code",
   "execution_count": null,
   "id": "c118b9de-ef79-4b41-8640-cfe177999be6",
   "metadata": {},
   "outputs": [],
   "source": [
    "def decide_start_point(acc,idx,minima,cycle,num):\n",
    "    if len(minima)!= 0:\n",
    "        min_idx = np.argmin(minima)\n",
    "        sp = idx[min_idx]\n",
    "        std_segs = []\n",
    "        for i in range(num):\n",
    "            seg = acc[:,sp+cycle*i:sp+cycle*(i+1)]\n",
    "            std_seg = 0\n",
    "            for j in range(3):\n",
    "                std_seg += np.std(seg[j])\n",
    "            std_segs.append(std_seg)\n",
    "        if np.min(std_segs) >= 1.5:\n",
    "            return sp\n",
    "        elif np.min(std_segs) < 1.5:\n",
    "            minima.pop(min_idx)\n",
    "            idx.pop(min_idx)\n",
    "            new_sp = decide_start_point(acc,idx,minima,cycle,num)\n",
    "            return new_sp\n",
    "    else: return 0"
   ]
  },
  {
   "cell_type": "code",
   "execution_count": null,
   "id": "6232b1fe-edb5-4fb5-b9fe-5630944eaf22",
   "metadata": {},
   "outputs": [],
   "source": [
    "\n",
    "def calc_segment_DTW(start_and_length,acc,num):\n",
    "#     print(start_and_length)\n",
    "    segments = []\n",
    "    for i in range(num):\n",
    "        seg = acc[:,int(start_and_length[i]):int(start_and_length[i]+start_and_length[i+num])]\n",
    "        segments.append(seg)\n",
    "        \n",
    "    pairs = list(itertools.combinations(segments, 2))\n",
    "    \n",
    "    dtw_x = 0\n",
    "    dtw_y = 0\n",
    "    dtw_z = 0\n",
    "    for p in pairs:\n",
    "        distance_x,path = fastdtw(p[0][0],p[1][0])\n",
    "        distance_y,path = fastdtw(p[0][1],p[1][1])\n",
    "        distance_z,path = fastdtw(p[0][2],p[1][2])\n",
    "        dtw_x += distance_x\n",
    "        dtw_y += distance_y\n",
    "        dtw_z += distance_z\n",
    "    dtw_sum = dtw_x + dtw_y + dtw_z\n",
    "    return dtw_sum"
   ]
  },
  {
   "cell_type": "code",
   "execution_count": null,
   "id": "56ec7ad3-60cd-4d0c-a2b0-30d1d5e7590d",
   "metadata": {},
   "outputs": [],
   "source": [
    "\n",
    "dt = 0.01\n",
    "sampling_rate = 100\n",
    "\n",
    "cut_off = 2\n",
    "\n",
    "\n",
    "subject = 'A'\n",
    "action = 'pushup'\n",
    "num = 2"
   ]
  },
  {
   "cell_type": "markdown",
   "id": "0e8906dc-6e58-439f-b27b-9d4e97a20d4c",
   "metadata": {},
   "source": [
    "### Loading Data"
   ]
  },
  {
   "cell_type": "code",
   "execution_count": null,
   "id": "ddfaf2bf-6b62-49b2-9311-938393ee70e0",
   "metadata": {},
   "outputs": [],
   "source": [
    "time1 = time.time()\n",
    "\n",
    "acc = np.load('../data/few-shot_data/'+subject+'/'+str(num)+'times/'+action+'.npy')\n",
    "len_acc = acc.shape[1]\n",
    "\n",
    "fig = plt.figure(figsize=(15,5))\n",
    "plt.plot(acc.T)\n",
    "\n",
    "\n",
    "acc_mm_quarter = scaling_quarter_range(acc)"
   ]
  },
  {
   "cell_type": "code",
   "execution_count": null,
   "id": "20e2d42f-579e-4495-980b-9663e6a3ef7b",
   "metadata": {},
   "outputs": [],
   "source": [
    "opt_func = partial(calc_segment_DTW,acc=acc_mm_quarter,num=num)"
   ]
  },
  {
   "cell_type": "code",
   "execution_count": null,
   "id": "87b7ab27-9b6e-4339-898c-aeac9ba178d2",
   "metadata": {},
   "outputs": [],
   "source": [
    "acc_arr,peak_arr,idx_arr,ac_arr = calc_peak_autoco(acc_mm_quarter,sampling_rate,cut_off)\n",
    "peak_arr = np.array(peak_arr)\n",
    "idx_arr = np.array(idx_arr)\n",
    "peak_arg = np.argsort(-peak_arr)\n",
    "\n",
    "peak_sorted = peak_arr[peak_arg]\n",
    "idx_sorted = idx_arr[peak_arg]"
   ]
  },
  {
   "cell_type": "code",
   "execution_count": null,
   "id": "ecea63c9-9a6f-4810-8cd2-7fd5e12d068f",
   "metadata": {},
   "outputs": [],
   "source": [
    "cycle_can = list(set(idx_sorted[:5]))\n",
    "print(cycle_can)\n",
    "\n",
    "time2 = time.time()"
   ]
  },
  {
   "cell_type": "code",
   "execution_count": null,
   "id": "bbe72cc3-ee82-4249-b151-2de8da2ea0bc",
   "metadata": {},
   "outputs": [],
   "source": [
    "dtw_arr = []\n",
    "init_arr = []\n",
    "for c in cycle_can:\n",
    "    dtw_sum = calc_DTW_sequence(acc_mm_quarter,c)\n",
    "    minima = dtw_sum[signal.argrelmin(dtw_sum,order=100)].tolist()\n",
    "    idx = signal.argrelmin(dtw_sum,order=100)[0].tolist()\n",
    "    start_point = decide_start_point(acc,idx,minima,c,num)\n",
    "    if start_point == None:\n",
    "        continue\n",
    "    starts0 = [start_point + c * i for i in range(num)]\n",
    "    lengths0 = [c for i in range(num)]\n",
    "    \n",
    "    opt_init = starts0+lengths0\n",
    "    init_arr.append(opt_init)\n",
    "    dtw_before = opt_func(opt_init)\n",
    "    dtw_arr.append(dtw_before)"
   ]
  },
  {
   "cell_type": "code",
   "execution_count": null,
   "id": "dcbcb9a2-3590-497d-ae15-af5bcda48af9",
   "metadata": {},
   "outputs": [],
   "source": [
    "plt.plot(dtw_sum)\n",
    "plt.tick_params(bottom=False,\n",
    "               left=False,\n",
    "               right=False,\n",
    "               top=False,)"
   ]
  },
  {
   "cell_type": "code",
   "execution_count": null,
   "id": "5b6aea8c-152a-4bee-963e-effe6bad9b52",
   "metadata": {},
   "outputs": [],
   "source": [
    "min_dtw = np.argmin(dtw_arr)\n",
    "cycle_len = cycle_can[min_dtw]\n",
    "opt_init = init_arr[min_dtw]\n",
    "dtw_before = opt_func(opt_init)\n",
    "\n",
    "print('length of action:',cycle_len)\n",
    "print('initial value of optimize function:',opt_init)\n",
    "print('initial DTW value :',dtw_before)"
   ]
  },
  {
   "cell_type": "code",
   "execution_count": null,
   "id": "d59bd335-363e-4cb9-84ca-ecfd7191d39a",
   "metadata": {},
   "outputs": [],
   "source": [
    "starts_init = np.array(opt_init[0:num])\n",
    "length_init = np.array(opt_init[num:num*2])\n",
    "ends_init = starts_init + length_init\n",
    "\n",
    "fig = plt.figure(figsize=(20,5))\n",
    "plt.plot(acc.T)\n",
    "plt.vlines(starts_init,np.min(acc),np.max(acc),color='black',label='start')\n",
    "# plt.xticks(starts_opt,rotation=90)\n",
    "plt.vlines(ends_init,np.min(acc),np.max(acc),color='red',label='end')\n",
    "# plt.xticks(ends_opt,rotation=90)\n",
    "plt.title('base of start and end point')\n",
    "plt.legend()\n",
    "\n",
    "time3 = time.time()"
   ]
  },
  {
   "cell_type": "code",
   "execution_count": null,
   "id": "bc2bbc13-457c-4184-ad46-8259fe767fc3",
   "metadata": {},
   "outputs": [],
   "source": [
    "\n",
    "diff_start = cycle_len*0.5\n",
    "diff_len = cycle_len*0.2\n",
    "\n",
    "bound_start = [(max(0,starts_init[i]-diff_start),min(len_acc,starts_init[i]+diff_start)) for i in range(num)]\n",
    "bound_len = [(cycle_len-diff_len,cycle_len+diff_len) for i in range(num)]\n",
    "\n",
    "boundary = bound_start+bound_len"
   ]
  },
  {
   "cell_type": "markdown",
   "id": "69069115-6e44-439e-a9de-81512ba6c4e5",
   "metadata": {},
   "source": [
    "### Optimization"
   ]
  },
  {
   "cell_type": "code",
   "execution_count": null,
   "id": "4e47063b-5e34-4933-8297-4e942668d25d",
   "metadata": {},
   "outputs": [],
   "source": [
    "fun_arr = []\n",
    "x_arr = []\n",
    "for e in range(10):\n",
    "    res = minimize(opt_func,opt_init,method='L-BFGS-B',bounds=boundary,options={'eps':e,'iprint':1})\n",
    "    fun_arr.append(res.fun)\n",
    "    x_arr.append(res.x)"
   ]
  },
  {
   "cell_type": "code",
   "execution_count": null,
   "id": "494bcb37-1579-4554-95b8-16b5de2bc58b",
   "metadata": {},
   "outputs": [],
   "source": [
    "min_dtw_idx = np.argmin(fun_arr)\n",
    "opted_para = x_arr[min_dtw_idx]"
   ]
  },
  {
   "cell_type": "code",
   "execution_count": null,
   "id": "de8c4d34-5bbd-4e96-a006-f1ff4e1f52d4",
   "metadata": {},
   "outputs": [],
   "source": [
    "starts_opt = np.array(opted_para[0:num])\n",
    "length_opt = np.array(opted_para[num:num*2])\n",
    "ends_opt = starts_opt + length_opt\n",
    "\n",
    "fig = plt.figure(figsize=(20,5))\n",
    "plt.plot(acc.T)\n",
    "plt.vlines(starts_opt,np.min(acc),np.max(acc),color='black',label='start')\n",
    "# plt.xticks(starts_opt,rotation=90)\n",
    "plt.vlines(ends_opt,np.min(acc),np.max(acc),color='red',label='end')\n",
    "# plt.xticks(ends_opt,rotation=90)\n",
    "plt.title('base of start and end point')\n",
    "plt.legend()\n",
    "\n",
    "time4 = time.time()"
   ]
  },
  {
   "cell_type": "markdown",
   "id": "47bf9c68-2127-41d0-9b6b-2ca51766b502",
   "metadata": {},
   "source": [
    "### Extracting"
   ]
  },
  {
   "cell_type": "code",
   "execution_count": null,
   "id": "a12af79e-fdb1-48a6-b235-94266a2555db",
   "metadata": {},
   "outputs": [],
   "source": [
    "\n",
    "base_seg = {}\n",
    "for i in range(num):\n",
    "    seg = acc[:,int(starts_opt[i]):int(ends_opt[i])]\n",
    "    base_seg[i] = seg\n",
    "fig,axes = plt.subplots(1,num,figsize=(num*5,3))\n",
    "for i in range(num):\n",
    "    axes[i].plot(base_seg[i].T)\n",
    "    axes[i].set_title(str(i+1)+'th action')"
   ]
  },
  {
   "cell_type": "code",
   "execution_count": null,
   "id": "ffaa51d6-cf0a-4737-8f70-75953f8349bd",
   "metadata": {},
   "outputs": [],
   "source": [
    "make_num = 100\n",
    "r = 0.1\n",
    "base_path = '../data/one_time_action_opt/'\n",
    "make_path = base_path+subject+'/'+action+'/'+str(num)\n",
    "\n",
    "if not os.path.isdir(make_path):\n",
    "    os.makedirs(make_path)"
   ]
  },
  {
   "cell_type": "code",
   "execution_count": null,
   "id": "0abea0da-3a0d-433a-bb4d-fddbbf74aca9",
   "metadata": {},
   "outputs": [],
   "source": [
    "for i in range(num):\n",
    "    for j in range(make_num):\n",
    "        start_r = random.randint(int(-0.1*length_opt[i]),int(0.1*length_opt[i]))\n",
    "        end_r = random.randint(int(-0.1*length_opt[i]),int(0.1*length_opt[i]))\n",
    "        sp = starts_opt[i] - start_r\n",
    "        ep = ends_opt[i] + end_r\n",
    "        seg = acc[:,int(sp):int(ep)]\n",
    "        np.save(make_path+'/'+str(i+1)+'_'+str(j),seg)"
   ]
  },
  {
   "cell_type": "code",
   "execution_count": null,
   "id": "0ecafed2-e658-43c7-b193-eef919742c23",
   "metadata": {},
   "outputs": [],
   "source": [
    "begin = acc[:,:int(starts_opt[0])]\n",
    "fin = acc[:,int(ends_opt[-1]):]\n",
    "\n",
    "fig,axes = plt.subplots(1,2,figsize=(10,3))\n",
    "axes[0].plot(begin.T)\n",
    "axes[0].set_title('pre action')\n",
    "axes[1].plot(fin.T)\n",
    "axes[1].set_title('after action')"
   ]
  },
  {
   "cell_type": "code",
   "execution_count": null,
   "id": "1811fe13-48d5-4427-8f67-50003e5728b1",
   "metadata": {},
   "outputs": [],
   "source": [
    "np.save(make_path+'/begin.npy',begin)\n",
    "np.save(make_path+'/fin.npy',fin)\n",
    "\n",
    "time5 = time.time()"
   ]
  },
  {
   "cell_type": "code",
   "execution_count": null,
   "id": "db23054a-0112-4de5-bec5-d92e50dce77f",
   "metadata": {},
   "outputs": [],
   "source": []
  },
  {
   "cell_type": "code",
   "execution_count": null,
   "id": "7daa0b65-9f6e-4aa4-b96f-cc4f9c39062a",
   "metadata": {},
   "outputs": [],
   "source": []
  },
  {
   "cell_type": "code",
   "execution_count": null,
   "id": "80b6b8c2-e650-403f-afdc-a89ebe10f7ad",
   "metadata": {},
   "outputs": [],
   "source": []
  }
 ],
 "metadata": {
  "kernelspec": {
   "display_name": "Python 3",
   "language": "python",
   "name": "python3"
  },
  "language_info": {
   "codemirror_mode": {
    "name": "ipython",
    "version": 3
   },
   "file_extension": ".py",
   "mimetype": "text/x-python",
   "name": "python",
   "nbconvert_exporter": "python",
   "pygments_lexer": "ipython3",
   "version": "3.8.8"
  }
 },
 "nbformat": 4,
 "nbformat_minor": 5
}
